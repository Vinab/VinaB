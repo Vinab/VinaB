{
 "cells": [
  {
   "cell_type": "markdown",
   "id": "f8d1718c-265c-4d3d-9318-5d2b58ca5d8f",
   "metadata": {},
   "source": [
    " 6.Assign multiple values to variables"
   ]
  },
  {
   "cell_type": "code",
   "execution_count": 1,
   "id": "37c11a8c-4aa4-4390-80ea-0d154ce100f6",
   "metadata": {},
   "outputs": [
    {
     "name": "stdout",
     "output_type": "stream",
     "text": [
      "a = 10\n",
      "b = 10\n",
      "c = 10\n"
     ]
    }
   ],
   "source": [
    "a=b=c=10 #One Value to Multiple Variables\n",
    "print(\"a =\",a)\n",
    "print(\"b =\",b)\n",
    "print(\"c =\",c)"
   ]
  },
  {
   "cell_type": "code",
   "execution_count": 2,
   "id": "a42d7ea0-8a2b-4971-983c-fd5006525882",
   "metadata": {},
   "outputs": [
    {
     "name": "stdout",
     "output_type": "stream",
     "text": [
      "a = Red\n",
      "b = Orange\n",
      "c = blue\n"
     ]
    }
   ],
   "source": [
    "a,b,c=\"Red\",\"Orange\",\"blue\" #Many Values to Multiple Variables\n",
    "print(\"a =\", a) \n",
    "print(\"b =\", b)\n",
    "print(\"c =\", c)"
   ]
  }
 ],
 "metadata": {
  "kernelspec": {
   "display_name": "Python 3 (ipykernel)",
   "language": "python",
   "name": "python3"
  },
  "language_info": {
   "codemirror_mode": {
    "name": "ipython",
    "version": 3
   },
   "file_extension": ".py",
   "mimetype": "text/x-python",
   "name": "python",
   "nbconvert_exporter": "python",
   "pygments_lexer": "ipython3",
   "version": "3.13.3"
  }
 },
 "nbformat": 4,
 "nbformat_minor": 5
}

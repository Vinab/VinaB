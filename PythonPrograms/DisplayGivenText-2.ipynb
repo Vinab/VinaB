{
 "cells": [
  {
   "cell_type": "markdown",
   "id": "3ef7b8ae-a757-4f69-863a-65b36623a0bb",
   "metadata": {},
   "source": [
    " # 2. Program to display the below text same way with quotes \"\"\n",
    "They asked, \"Is it possible that all files can be uploaded at once in GitHub?\"\n",
    "I said \"Yes\" using Git commands."
   ]
  },
  {
   "cell_type": "code",
   "execution_count": 1,
   "id": "2257c186-d8d9-4375-a25c-12cb1b3a78c7",
   "metadata": {},
   "outputs": [
    {
     "name": "stdout",
     "output_type": "stream",
     "text": [
      "They asked, \"Is it possible that all files can be uploaded at once in GitHub?\"\n",
      " I said \"Yes\" using Git commands.\n"
     ]
    }
   ],
   "source": [
    "print('They asked, \"Is it possible that all files can be uploaded at once in GitHub?\"\\n I said \"Yes\" using Git commands.')"
   ]
  },
  {
   "cell_type": "code",
   "execution_count": 2,
   "id": "5e0062c1-455d-4960-8bda-32885f6ef7dd",
   "metadata": {},
   "outputs": [
    {
     "name": "stdout",
     "output_type": "stream",
     "text": [
      "They asked, \"Is it possible that all files can be uploaded at once in GitHub?\"\n",
      " I said \"Yes\" using Git commands.\n"
     ]
    }
   ],
   "source": [
    "print('''They asked, \"Is it possible that all files can be uploaded at once in GitHub?\"\\n I said \"Yes\" using Git commands.''')"
   ]
  },
  {
   "cell_type": "code",
   "execution_count": 3,
   "id": "26fffc63-3932-49ba-8331-da7cc122f843",
   "metadata": {},
   "outputs": [
    {
     "name": "stdout",
     "output_type": "stream",
     "text": [
      "They asked, \"Is it possible that all files can be uploaded at once in GitHub?\"\n",
      " I said \"Yes\" using Git commands.\n"
     ]
    }
   ],
   "source": [
    "print(\"\"\"They asked, \"Is it possible that all files can be uploaded at once in GitHub?\"\\n I said \"Yes\" using Git commands.\"\"\")"
   ]
  }
 ],
 "metadata": {
  "kernelspec": {
   "display_name": "Python 3 (ipykernel)",
   "language": "python",
   "name": "python3"
  },
  "language_info": {
   "codemirror_mode": {
    "name": "ipython",
    "version": 3
   },
   "file_extension": ".py",
   "mimetype": "text/x-python",
   "name": "python",
   "nbconvert_exporter": "python",
   "pygments_lexer": "ipython3",
   "version": "3.13.3"
  }
 },
 "nbformat": 4,
 "nbformat_minor": 5
}

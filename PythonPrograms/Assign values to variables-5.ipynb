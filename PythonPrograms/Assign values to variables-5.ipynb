{
 "cells": [
  {
   "cell_type": "markdown",
   "id": "c348c902-e22f-4497-984c-d6cdf41d673d",
   "metadata": {},
   "source": [
    "# 5. Program to assign values to variables"
   ]
  },
  {
   "cell_type": "code",
   "execution_count": 5,
   "id": "b70db729-f9a4-4962-b25c-d547586ddfca",
   "metadata": {},
   "outputs": [
    {
     "name": "stdout",
     "output_type": "stream",
     "text": [
      "python\n"
     ]
    }
   ],
   "source": [
    "'''\n",
    "variables are used to hold data.\n",
    "You create a variable simply by assigning a value to it—no need to specify its type.\n",
    "That’s because Python is dynamically typed, meaning it figures out the data type on its own.\n",
    "\n",
    "\n",
    "Rules for Naming Variables in Python \n",
    "\n",
    "1.They must begin with a letter or an underscore — not a number.\n",
    "2. Variable names may include letters (a–z, A–Z), digits (0–9), and underscores (_).\n",
    "3. Variable names are case-sensitive, so Name and name are treated as different variables.\n",
    "\n",
    "'''\n",
    "name=\"python\" # assigning string value to variable\n",
    "print(name)\n"
   ]
  },
  {
   "cell_type": "code",
   "execution_count": 2,
   "id": "0e7e5ea2-4e0b-420f-a9de-3c435496edb8",
   "metadata": {},
   "outputs": [
    {
     "name": "stdout",
     "output_type": "stream",
     "text": [
      "_Programming\n"
     ]
    }
   ],
   "source": [
    "Name=\"_Programming\"  # variable names are case-sensitive\n",
    "print(Name)"
   ]
  },
  {
   "cell_type": "code",
   "execution_count": 3,
   "id": "dd8cf789-7f98-4915-a94a-0387657e5f18",
   "metadata": {},
   "outputs": [
    {
     "name": "stdout",
     "output_type": "stream",
     "text": [
      "2\n"
     ]
    }
   ],
   "source": [
    "_num=2\n",
    "print(_num)"
   ]
  },
  {
   "cell_type": "code",
   "execution_count": 4,
   "id": "d2830c60-156c-4e19-9ab0-3373e716772f",
   "metadata": {},
   "outputs": [
    {
     "ename": "SyntaxError",
     "evalue": "invalid decimal literal (427695517.py, line 1)",
     "output_type": "error",
     "traceback": [
      "  \u001b[36mCell\u001b[39m\u001b[36m \u001b[39m\u001b[32mIn[4]\u001b[39m\u001b[32m, line 1\u001b[39m\n\u001b[31m    \u001b[39m\u001b[31m123_temp=100 # variable names cannot start with number\u001b[39m\n       ^\n\u001b[31mSyntaxError\u001b[39m\u001b[31m:\u001b[39m invalid decimal literal\n"
     ]
    }
   ],
   "source": [
    "123_temp=100        # variable names cannot start with number\n",
    "print(123_temp)"
   ]
  }
 ],
 "metadata": {
  "kernelspec": {
   "display_name": "Python 3 (ipykernel)",
   "language": "python",
   "name": "python3"
  },
  "language_info": {
   "codemirror_mode": {
    "name": "ipython",
    "version": 3
   },
   "file_extension": ".py",
   "mimetype": "text/x-python",
   "name": "python",
   "nbconvert_exporter": "python",
   "pygments_lexer": "ipython3",
   "version": "3.13.3"
  }
 },
 "nbformat": 4,
 "nbformat_minor": 5
}

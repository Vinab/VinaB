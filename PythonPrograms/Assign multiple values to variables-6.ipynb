{
 "cells": [
  {
   "cell_type": "markdown",
   "id": "de24ec42-5145-4bca-8607-4f270ec2601c",
   "metadata": {},
   "source": [
    "  # 6.Assign multiple values to variables "
   ]
  },
  {
   "cell_type": "code",
   "execution_count": 1,
   "id": "2db257be-9e95-43e0-b722-aaf921f47f27",
   "metadata": {},
   "outputs": [
    {
     "name": "stdout",
     "output_type": "stream",
     "text": [
      "a = 10\n",
      "b = 10\n",
      "c = 10\n"
     ]
    }
   ],
   "source": [
    "a=b=c=10 # One Value to Multiple Variables\n",
    "print(\"a =\",a)\n",
    "print(\"b =\",b)\n",
    "print(\"c =\",c)"
   ]
  },
  {
   "cell_type": "code",
   "execution_count": 2,
   "id": "c3c353c0-35fc-4374-a99c-c9937e7f8993",
   "metadata": {},
   "outputs": [
    {
     "name": "stdout",
     "output_type": "stream",
     "text": [
      "a = Red\n",
      "b = Orange\n",
      "c = blue\n"
     ]
    }
   ],
   "source": [
    "a,b,c=\"Red\",\"Orange\",\"blue\" # Many Values to Multiple Variables\n",
    "print(\"a =\", a) \n",
    "print(\"b =\", b)\n",
    "print(\"c =\", c)"
   ]
  }
 ],
 "metadata": {
  "kernelspec": {
   "display_name": "Python 3 (ipykernel)",
   "language": "python",
   "name": "python3"
  },
  "language_info": {
   "codemirror_mode": {
    "name": "ipython",
    "version": 3
   },
   "file_extension": ".py",
   "mimetype": "text/x-python",
   "name": "python",
   "nbconvert_exporter": "python",
   "pygments_lexer": "ipython3",
   "version": "3.13.3"
  }
 },
 "nbformat": 4,
 "nbformat_minor": 5
}

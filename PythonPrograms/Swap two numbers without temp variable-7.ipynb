{
 "cells": [
  {
   "cell_type": "markdown",
   "id": "8128b21e-13d7-46d4-a522-790a6f3f3254",
   "metadata": {},
   "source": [
    "# 7.Program to swap two numbers without using a temp variable"
   ]
  },
  {
   "cell_type": "code",
   "execution_count": 1,
   "id": "95dcbbcf-aedb-42ea-a2bd-ce36bac748f6",
   "metadata": {},
   "outputs": [],
   "source": [
    "a = 100\n",
    "b = 200"
   ]
  },
  {
   "cell_type": "code",
   "execution_count": 2,
   "id": "83891534-b003-4d8b-b405-7e73da4528bd",
   "metadata": {},
   "outputs": [
    {
     "name": "stdout",
     "output_type": "stream",
     "text": [
      "Before swapping the values\n",
      "Value of a =  100\n",
      "Value of b =  200\n"
     ]
    }
   ],
   "source": [
    "print(\"Before swapping the values\")\n",
    "print(\"Value of a = \",a)\n",
    "print(\"Value of b = \",b)"
   ]
  },
  {
   "cell_type": "code",
   "execution_count": 3,
   "id": "13ce46cc-88d2-4b1d-bf00-c3066981b41d",
   "metadata": {},
   "outputs": [
    {
     "name": "stdout",
     "output_type": "stream",
     "text": [
      "After swapping the values\n",
      "Value of a = 200\n",
      "Value of b = 100\n"
     ]
    }
   ],
   "source": [
    "print(\"After swapping the values\")\n",
    "a,b=200,100\n",
    "print(\"Value of a =\", a)\n",
    "print(\"Value of b =\", b)"
   ]
  }
 ],
 "metadata": {
  "kernelspec": {
   "display_name": "Python 3 (ipykernel)",
   "language": "python",
   "name": "python3"
  },
  "language_info": {
   "codemirror_mode": {
    "name": "ipython",
    "version": 3
   },
   "file_extension": ".py",
   "mimetype": "text/x-python",
   "name": "python",
   "nbconvert_exporter": "python",
   "pygments_lexer": "ipython3",
   "version": "3.13.3"
  }
 },
 "nbformat": 4,
 "nbformat_minor": 5
}

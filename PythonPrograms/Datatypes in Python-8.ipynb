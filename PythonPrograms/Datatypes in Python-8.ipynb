{
 "cells": [
  {
   "cell_type": "markdown",
   "id": "d4b530bb-75ad-4fa5-8106-73812e5bd5b9",
   "metadata": {},
   "source": [
    "# 8. Program to demonstrate datatypes in python"
   ]
  },
  {
   "cell_type": "code",
   "execution_count": 1,
   "id": "0d0bffb2-c9b2-4102-9203-88a5bf41fb27",
   "metadata": {},
   "outputs": [
    {
     "name": "stdout",
     "output_type": "stream",
     "text": [
      "10\n"
     ]
    }
   ],
   "source": [
    "'''\n",
    "Data Types in Python\n",
    "Python comes with several built-in data types used to store different kinds of values.\n",
    "Here are a few of the most commonly used ones:\n",
    "\n",
    "Python has the following data types built-in by default, in these categories:\n",
    "\n",
    "Numeric Types  : int, float, complex\n",
    "               : int – Used to store integer values, (eg: -100, 1) — numbers without decimal points.\n",
    "               : float – Stores decimal numbers, (eg: 3.142, -0.489) These are called floating-point numbers.\n",
    "               : complex-A complex number in Python is a number that has both a real and an imaginary part.\n",
    "                    \n",
    "Text Type      : str\n",
    "               :str – Represents a string of text,(eg: \"python\",\"1stprogram\") \n",
    "               :Strings are made up of characters and are written in single quotes or double quotes.\n",
    "               :Strings are used to represent text — like words, sentences, or even symbols and numbers as text\n",
    "\n",
    "Boolean Type   : bool\n",
    "               :Holds a Boolean value, which can only be True or False\n",
    "               \n",
    "None Type      : NoneType\n",
    "               : NoneType is the type of the special value None in Python.\n",
    "               : None represents the absence of a value, or \"nothing.\"\n",
    "\n",
    "Binary Types   :\tbytes, bytearray, memoryview\n",
    "Sequence Types :\tlist, tuple, range\n",
    "Mapping Type   :\tdict\n",
    "Set Types      :\tset, frozenset\n",
    "\n",
    "'''\n",
    "a = 10 #Python, you do not need to explicitly declare the datatype of a variable.\n",
    "print(a)"
   ]
  },
  {
   "cell_type": "markdown",
   "id": "43294d14-994d-4d97-9f07-6738b229105b",
   "metadata": {},
   "source": [
    "# Finding the Data Type of a variable"
   ]
  },
  {
   "cell_type": "code",
   "execution_count": 2,
   "id": "195f51c8-eca7-4cab-aae5-c2d608411f3b",
   "metadata": {},
   "outputs": [
    {
     "name": "stdout",
     "output_type": "stream",
     "text": [
      "<class 'float'>\n",
      "100.345\n"
     ]
    }
   ],
   "source": [
    "x = 100.345\n",
    "print(type(x))\n",
    "print(x)\n"
   ]
  },
  {
   "cell_type": "code",
   "execution_count": 3,
   "id": "c5e77d0f-a0c1-4b5f-ba29-0741ac662b29",
   "metadata": {},
   "outputs": [
    {
     "name": "stdout",
     "output_type": "stream",
     "text": [
      "<class 'str'>\n",
      "200\n"
     ]
    }
   ],
   "source": [
    "x = \"python\"\n",
    "print(type(x))\n",
    "x=200\n",
    "print(x)"
   ]
  },
  {
   "cell_type": "markdown",
   "id": "51e8dbad-fb0b-4585-b041-5a26f4eb1806",
   "metadata": {},
   "source": [
    "# Change int datatype to float"
   ]
  },
  {
   "cell_type": "code",
   "execution_count": 4,
   "id": "aab9e742-a00e-4b19-8f67-4301aa7a596f",
   "metadata": {},
   "outputs": [
    {
     "name": "stdout",
     "output_type": "stream",
     "text": [
      "<class 'int'>\n",
      "<class 'str'>\n"
     ]
    }
   ],
   "source": [
    "x = 34289\n",
    "print(type(x))\n",
    "x=str(x)\n",
    "print(type(x))    "
   ]
  },
  {
   "cell_type": "code",
   "execution_count": 5,
   "id": "aa0923d0-13cb-4947-866f-b5be9c894381",
   "metadata": {},
   "outputs": [
    {
     "name": "stdout",
     "output_type": "stream",
     "text": [
      "34289\n",
      "<class 'int'>\n",
      "34289.0\n"
     ]
    }
   ],
   "source": [
    "x = 34289\n",
    "print(x)\n",
    "print(type(x))\n",
    "print(float(x)) # Converts x(34289) int value to a float (34289.0) and prints it"
   ]
  },
  {
   "cell_type": "markdown",
   "id": "54b3bc29-8cb4-4f85-a5b6-ff57bb42c19d",
   "metadata": {},
   "source": [
    "# Change int datatype to string"
   ]
  },
  {
   "cell_type": "code",
   "execution_count": 6,
   "id": "b6ef9214-b481-4833-a8a1-30ce74cb3915",
   "metadata": {},
   "outputs": [
    {
     "name": "stdout",
     "output_type": "stream",
     "text": [
      "<class 'str'>\n"
     ]
    },
    {
     "ename": "ValueError",
     "evalue": "invalid literal for int() with base 10: 'python23'",
     "output_type": "error",
     "traceback": [
      "\u001b[31m---------------------------------------------------------------------------\u001b[39m",
      "\u001b[31mValueError\u001b[39m                                Traceback (most recent call last)",
      "\u001b[36mCell\u001b[39m\u001b[36m \u001b[39m\u001b[32mIn[6]\u001b[39m\u001b[32m, line 3\u001b[39m\n\u001b[32m      1\u001b[39m x = \u001b[33m\"\u001b[39m\u001b[33mpython23\u001b[39m\u001b[33m\"\u001b[39m\n\u001b[32m      2\u001b[39m \u001b[38;5;28mprint\u001b[39m(\u001b[38;5;28mtype\u001b[39m(x))\n\u001b[32m----> \u001b[39m\u001b[32m3\u001b[39m x = \u001b[38;5;28;43mint\u001b[39;49m\u001b[43m(\u001b[49m\u001b[43mx\u001b[49m\u001b[43m)\u001b[49m \u001b[38;5;66;03m# ❌ Error: Python can't convert mixed strings like \"python23\" to int\u001b[39;00m\n\u001b[32m      4\u001b[39m            \u001b[38;5;66;03m# It expects a string with only digits (e.g., \"123\")\u001b[39;00m\n",
      "\u001b[31mValueError\u001b[39m: invalid literal for int() with base 10: 'python23'"
     ]
    }
   ],
   "source": [
    "x = \"python23\"\n",
    "print(type(x))\n",
    "x = int(x) # ❌ Error: Python can't convert mixed strings like \"python23\" to int\n",
    "           # It expects a string with only digits (e.g., \"123\")\n",
    "\n"
   ]
  }
 ],
 "metadata": {
  "kernelspec": {
   "display_name": "Python 3 (ipykernel)",
   "language": "python",
   "name": "python3"
  },
  "language_info": {
   "codemirror_mode": {
    "name": "ipython",
    "version": 3
   },
   "file_extension": ".py",
   "mimetype": "text/x-python",
   "name": "python",
   "nbconvert_exporter": "python",
   "pygments_lexer": "ipython3",
   "version": "3.13.3"
  }
 },
 "nbformat": 4,
 "nbformat_minor": 5
}

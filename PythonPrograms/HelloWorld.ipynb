{
 "cells": [
  {
   "cell_type": "markdown",
   "id": "c70595db-90d2-481b-bd56-1cc141f43e82",
   "metadata": {},
   "source": [
    "                   ***************PYTHON PROGRAMMING***********************"
   ]
  },
  {
   "cell_type": "code",
   "execution_count": null,
   "id": "43a7aed5-12df-4e4d-a0f2-3b46bb0932c2",
   "metadata": {},
   "outputs": [],
   "source": [
    "# 1. Program to print message"
   ]
  },
  {
   "cell_type": "code",
   "execution_count": 4,
   "id": "ef24e859-effb-4d7f-aa84-249e8b86b9db",
   "metadata": {},
   "outputs": [
    {
     "name": "stdout",
     "output_type": "stream",
     "text": [
      "Welcome to Python Programming\n"
     ]
    }
   ],
   "source": [
    "print(\"Welcome to Python Programming\") #  \"\" double quotes also works"
   ]
  },
  {
   "cell_type": "code",
   "execution_count": 6,
   "id": "21db456c-0425-4836-9d46-49a08fed234e",
   "metadata": {},
   "outputs": [
    {
     "name": "stdout",
     "output_type": "stream",
     "text": [
      "Welcome to Python Programming\n"
     ]
    }
   ],
   "source": [
    "print('Welcome to Python Programming') # ' ' quotes also works"
   ]
  }
 ],
 "metadata": {
  "kernelspec": {
   "display_name": "Python 3 (ipykernel)",
   "language": "python",
   "name": "python3"
  },
  "language_info": {
   "codemirror_mode": {
    "name": "ipython",
    "version": 3
   },
   "file_extension": ".py",
   "mimetype": "text/x-python",
   "name": "python",
   "nbconvert_exporter": "python",
   "pygments_lexer": "ipython3",
   "version": "3.13.2"
  }
 },
 "nbformat": 4,
 "nbformat_minor": 5
}

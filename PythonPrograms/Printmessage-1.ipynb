{
 "cells": [
  {
   "cell_type": "markdown",
   "id": "eecf183a-6c8c-4199-8b6a-dcfc14a9eb2c",
   "metadata": {},
   "source": [
    "# Welcome to Python Programming"
   ]
  },
  {
   "cell_type": "markdown",
   "id": "ca07e335-71f0-49d6-9a63-681bd757177b",
   "metadata": {},
   "source": [
    "# 1.Program to print message"
   ]
  },
  {
   "cell_type": "code",
   "execution_count": 1,
   "id": "25e66c89-aacd-447b-8026-0959742836b0",
   "metadata": {},
   "outputs": [
    {
     "name": "stdout",
     "output_type": "stream",
     "text": [
      "Welcome to Python Programming\n"
     ]
    }
   ],
   "source": [
    "print(\"Welcome to Python Programming\")   #  \"\" double quotes also works"
   ]
  },
  {
   "cell_type": "code",
   "execution_count": 2,
   "id": "4d1aed73-0e0f-4589-963d-2e000f39e0ad",
   "metadata": {},
   "outputs": [
    {
     "name": "stdout",
     "output_type": "stream",
     "text": [
      "Welcome to Python Programming\n"
     ]
    }
   ],
   "source": [
    "print('Welcome to Python Programming')   # ' ' quotes also works"
   ]
  }
 ],
 "metadata": {
  "kernelspec": {
   "display_name": "Python 3 (ipykernel)",
   "language": "python",
   "name": "python3"
  },
  "language_info": {
   "codemirror_mode": {
    "name": "ipython",
    "version": 3
   },
   "file_extension": ".py",
   "mimetype": "text/x-python",
   "name": "python",
   "nbconvert_exporter": "python",
   "pygments_lexer": "ipython3",
   "version": "3.13.3"
  }
 },
 "nbformat": 4,
 "nbformat_minor": 5
}

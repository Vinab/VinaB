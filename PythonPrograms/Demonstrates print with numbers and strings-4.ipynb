{
 "cells": [
  {
   "cell_type": "markdown",
   "id": "237c41fa-a253-48d7-9625-c8b1ae21da92",
   "metadata": {},
   "source": [
    "4.  Program demonstrates the behavior of the print function with an arithmetic operation and string"
   ]
  },
  {
   "cell_type": "code",
   "execution_count": 1,
   "id": "125c12f0-6e0e-4f9c-a0ca-16849e22036f",
   "metadata": {},
   "outputs": [
    {
     "name": "stdout",
     "output_type": "stream",
     "text": [
      "15\n"
     ]
    }
   ],
   "source": [
    "print(5*3) # Performs arithmetic operation"
   ]
  },
  {
   "cell_type": "code",
   "execution_count": 2,
   "id": "05376009-4491-41f2-a20b-2ce5bb81f458",
   "metadata": {},
   "outputs": [
    {
     "name": "stdout",
     "output_type": "stream",
     "text": [
      "5*3\n"
     ]
    }
   ],
   "source": [
    "print(\"5*3\") # As it is enclosed in double quotes treated as string displays the samw"
   ]
  },
  {
   "cell_type": "code",
   "execution_count": 3,
   "id": "1a80eb9c-8cd9-4c49-850d-feab16463414",
   "metadata": {},
   "outputs": [
    {
     "name": "stdout",
     "output_type": "stream",
     "text": [
      "HelloHi23ABC5\n"
     ]
    }
   ],
   "source": [
    "print(\"Hello\" + \"Hi\" + \"23ABC5\") # Concatenation means joining two or more strings"
   ]
  },
  {
   "cell_type": "code",
   "execution_count": 4,
   "id": "010ab140-ed86-4798-8b8b-2df1de161cc9",
   "metadata": {},
   "outputs": [
    {
     "name": "stdout",
     "output_type": "stream",
     "text": [
      "Hello Hi 23ABC5\n"
     ]
    }
   ],
   "source": [
    "print(\"Hello\" + \" \" + \"Hi\" +\" \"+  \"23ABC5\") # String concatenation\n",
    "                                            # A string is a sequence of characters enclosed in quotes.              \n",
    "                                            # It can contain letters, numbers, symbols, spaces \n",
    "                                            # Basically, anything you can type on a keyboard."
   ]
  },
  {
   "cell_type": "code",
   "execution_count": 5,
   "id": "04b5df38-c864-45a6-99d2-7cf0de9f83c5",
   "metadata": {},
   "outputs": [
    {
     "name": "stdout",
     "output_type": "stream",
     "text": [
      "hellohellohellohellohello\n"
     ]
    }
   ],
   "source": [
    "print(\"hello\" *5) # When you multiply a string by a number, it repeats the string that many times."
   ]
  },
  {
   "cell_type": "code",
   "execution_count": 6,
   "id": "c944b34c-0f4e-4d62-8961-07c5fcabb114",
   "metadata": {},
   "outputs": [
    {
     "name": "stdout",
     "output_type": "stream",
     "text": [
      "hihihihihi\n"
     ]
    }
   ],
   "source": [
    "print(5*\"hi\")"
   ]
  }
 ],
 "metadata": {
  "kernelspec": {
   "display_name": "Python 3 (ipykernel)",
   "language": "python",
   "name": "python3"
  },
  "language_info": {
   "codemirror_mode": {
    "name": "ipython",
    "version": 3
   },
   "file_extension": ".py",
   "mimetype": "text/x-python",
   "name": "python",
   "nbconvert_exporter": "python",
   "pygments_lexer": "ipython3",
   "version": "3.13.3"
  }
 },
 "nbformat": 4,
 "nbformat_minor": 5
}

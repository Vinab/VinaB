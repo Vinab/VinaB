{
 "cells": [
  {
   "cell_type": "markdown",
   "id": "5e581b3a-5913-4e3c-b067-31470cf17f6e",
   "metadata": {},
   "source": [
    "# 3. Program to show single-line, multiline comments in python"
   ]
  },
  {
   "cell_type": "code",
   "execution_count": 1,
   "id": "26f61173-4786-49db-a43f-b0ba86995354",
   "metadata": {},
   "outputs": [
    {
     "name": "stdout",
     "output_type": "stream",
     "text": [
      "Single line comments starts with #\n"
     ]
    }
   ],
   "source": [
    "#This is single line \n",
    "print(\"Single line comments starts with #\")"
   ]
  },
  {
   "cell_type": "code",
   "execution_count": 2,
   "id": "3d9198a4-6ce8-436e-bf50-fb1ca294e187",
   "metadata": {},
   "outputs": [
    {
     "name": "stdout",
     "output_type": "stream",
     "text": [
      "Multi-line comments starts and ends with triple double quotes\n"
     ]
    }
   ],
   "source": [
    "\"\"\"\n",
    "This is multi-line comment\n",
    "Marked with triple  double quotes \n",
    "\"\"\"\n",
    "print(\"Multi-line comments starts and ends with triple double quotes\")"
   ]
  },
  {
   "cell_type": "code",
   "execution_count": 3,
   "id": "f1f310e8-558e-4a67-b9de-e2a4193f9022",
   "metadata": {},
   "outputs": [
    {
     "name": "stdout",
     "output_type": "stream",
     "text": [
      "Multi-line comments starts and ends with triple single quotes\n"
     ]
    }
   ],
   "source": [
    "\"\"\"\n",
    "This is multi-line comment\n",
    "Marked with triple single quotes \n",
    "\"\"\"\n",
    "print(\"Multi-line comments starts and ends with triple single quotes\")"
   ]
  }
 ],
 "metadata": {
  "kernelspec": {
   "display_name": "Python 3 (ipykernel)",
   "language": "python",
   "name": "python3"
  },
  "language_info": {
   "codemirror_mode": {
    "name": "ipython",
    "version": 3
   },
   "file_extension": ".py",
   "mimetype": "text/x-python",
   "name": "python",
   "nbconvert_exporter": "python",
   "pygments_lexer": "ipython3",
   "version": "3.13.3"
  }
 },
 "nbformat": 4,
 "nbformat_minor": 5
}
